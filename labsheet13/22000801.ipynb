{
 "cells": [
  {
   "cell_type": "markdown",
   "id": "44bf9577-ea59-49c1-bdf7-246cec731b24",
   "metadata": {},
   "source": [
    "Activity 01"
   ]
  },
  {
   "cell_type": "code",
   "execution_count": 17,
   "id": "b745a4b6-6a8d-46ab-8dc4-3fe16ce31017",
   "metadata": {},
   "outputs": [
    {
     "name": "stdout",
     "output_type": "stream",
     "text": [
      "[1] \"z :  -1.06066017177982\"\n",
      "[1] \"p-value :  0.288844366346485\"\n",
      "[1] \"Fail to reject H0 :  Students average test score is not different from 75\"\n"
     ]
    }
   ],
   "source": [
    "# 01\n",
    "H0 <- \"Students average test score is not different from 75\"\n",
    "H1 <- \"Students average test score is different from 75\"\n",
    "mean <- 73.5\n",
    "mu <- 75\n",
    "s <- 10\n",
    "n <- 50\n",
    "alpha <- 0.05\n",
    "\n",
    "z <- (mean - mu) / (s/sqrt(n))\n",
    "p_value <- 2*(1- pnorm(abs(z)))\n",
    "\n",
    "print(paste(\"z : \", z))\n",
    "print(paste(\"p-value : \", p_value))\n",
    "\n",
    "if(p_value < alpha){\n",
    "    print(paste(\"Reject H0 : \", H1))\n",
    "}else{\n",
    "    print(paste(\"Fail to reject H0 : \", H0))\n",
    "}"
   ]
  },
  {
   "cell_type": "code",
   "execution_count": 10,
   "id": "5870a352-5daf-4b40-9b55-2d05e90711cc",
   "metadata": {},
   "outputs": [
    {
     "name": "stdout",
     "output_type": "stream",
     "text": [
      "[1] \"z :  -2.34912054755365\"\n",
      "[1] \"p-value :  0.00940890669098454\"\n",
      "[1] \"Reject H0 :  The production time is significatly less than 30 minutes\"\n"
     ]
    }
   ],
   "source": [
    "# 02\n",
    "H0 <- \"The production time is not different from 30 minutes \"\n",
    "H1 <- \"The production time is significatly less than 30 minutes\"\n",
    "mean <- 28.7\n",
    "mu <- 30\n",
    "s <- 3.5\n",
    "n <- 40\n",
    "alpha <- 0.05\n",
    "\n",
    "z <- (mean - mu) / (s/sqrt(n))\n",
    "p_value <- pnorm(z)\n",
    "\n",
    "print(paste(\"z : \", z))\n",
    "print(paste(\"p-value : \", p_value))\n",
    "\n",
    "if(p_value < alpha){\n",
    "    print(paste(\"Reject H0 : \", H1))\n",
    "}else{\n",
    "    print(paste(\"Fail to reject H0 : \", H0))\n",
    "}"
   ]
  },
  {
   "cell_type": "markdown",
   "id": "30399ea5-586c-404b-85be-4812a5aa785e",
   "metadata": {},
   "source": [
    "Activity 02"
   ]
  },
  {
   "cell_type": "code",
   "execution_count": 11,
   "id": "74ad9ddc-759e-448c-9452-8b3ce2001273",
   "metadata": {},
   "outputs": [
    {
     "name": "stdout",
     "output_type": "stream",
     "text": [
      "[1] \"z :  -2.1466252583998\"\n",
      "[1] \"p-value :  0.015911563693245\"\n",
      "[1] \"Reject H0 :  The average fuel efficiency of cars is significatly less than 25 MPG\"\n"
     ]
    }
   ],
   "source": [
    "# 01\n",
    "H0 <- \"The average fuel efficiency of cars is not different from 25 MPG\"\n",
    "H1 <- \"The average fuel efficiency of cars is significatly less than 25 MPG\"\n",
    "mean <- 24.2\n",
    "mu <- 25\n",
    "s <- 2.5\n",
    "n <- 45\n",
    "alpha <- 0.05\n",
    "\n",
    "z <- (mean - mu) / (s/sqrt(n))\n",
    "p_value <- pnorm(z)\n",
    "\n",
    "print(paste(\"z : \", z))\n",
    "print(paste(\"p-value : \", p_value))\n",
    "\n",
    "if(p_value < alpha){\n",
    "    print(paste(\"Reject H0 : \", H1))\n",
    "}else{\n",
    "    print(paste(\"Fail to reject H0 : \", H0))\n",
    "}"
   ]
  },
  {
   "cell_type": "code",
   "execution_count": 12,
   "id": "a224be47-011a-4ce2-911b-f3d5f0ff9fca",
   "metadata": {},
   "outputs": [
    {
     "name": "stdout",
     "output_type": "stream",
     "text": [
      "[1] \"z :  -1.76776695296637\"\n",
      "[1] \"p-value :  0.0385499358717709\"\n",
      "[1] \"Reject H0 :  The average blood pressure is significatly less than 120\"\n"
     ]
    }
   ],
   "source": [
    "# 02\n",
    "H0 <- \"The average blood pressure is not different from 120\"\n",
    "H1 <- \"The average blood pressure is significatly less than 120\"\n",
    "mean <- 118.5\n",
    "mu <- 120\n",
    "s <- 6\n",
    "n <- 50\n",
    "alpha <- 0.05\n",
    "\n",
    "z <- (mean - mu) / (s/sqrt(n))\n",
    "p_value <- pnorm(z)\n",
    "\n",
    "print(paste(\"z : \", z))\n",
    "print(paste(\"p-value : \", p_value))\n",
    "\n",
    "if(p_value < alpha){\n",
    "    print(paste(\"Reject H0 : \", H1))\n",
    "}else{\n",
    "    print(paste(\"Fail to reject H0 : \", H0))\n",
    "}"
   ]
  },
  {
   "cell_type": "markdown",
   "id": "742c8de0-6753-49f4-a76b-de458b09db8d",
   "metadata": {},
   "source": [
    "Activity 03"
   ]
  },
  {
   "cell_type": "code",
   "execution_count": 13,
   "id": "cabfe952-9378-4680-8883-e2a1fc882eba",
   "metadata": {},
   "outputs": [
    {
     "name": "stdout",
     "output_type": "stream",
     "text": [
      "[1] \"z :  2.95803989154981\"\n",
      "[1] \"p-value :  0.00154801027497953\"\n",
      "[1] \"Reject H0 :  The average household electricity bill is significatly more than $100 per month\"\n"
     ]
    }
   ],
   "source": [
    "# 01\n",
    "H0 <- \"The average household electricity bill  is not different from $100 per month\"\n",
    "H1 <- \"The average household electricity bill is significatly more than $100 per month\"\n",
    "mean <- 104\n",
    "mu <- 100\n",
    "s <- 8\n",
    "n <- 35\n",
    "alpha <- 0.05\n",
    "\n",
    "z <- (mean - mu) / (s/sqrt(n))\n",
    "p_value <-1 - pnorm(z)\n",
    "\n",
    "print(paste(\"z : \", z))\n",
    "print(paste(\"p-value : \", p_value))\n",
    "\n",
    "if(p_value < alpha){\n",
    "    print(paste(\"Reject H0 : \", H1))\n",
    "}else{\n",
    "    print(paste(\"Fail to reject H0 : \", H0))\n",
    "}"
   ]
  },
  {
   "cell_type": "code",
   "execution_count": 14,
   "id": "6a389cdc-5be4-487e-b1a2-c701fd0c8724",
   "metadata": {},
   "outputs": [
    {
     "name": "stdout",
     "output_type": "stream",
     "text": [
      "[1] \"z :  3.7947331922022\"\n",
      "[1] \"p-value :  7.39011551671442e-05\"\n",
      "[1] \"Reject H0 :  The average body temperature is significatly more than 98.6°F\"\n"
     ]
    }
   ],
   "source": [
    "# 02\n",
    "H0 <- \"The average body temperature  is not different from 98.6°F\"\n",
    "H1 <- \"The average body temperature is significatly more than 98.6°F\"\n",
    "mean <- 98.9\n",
    "mu <- 98.6\n",
    "s <- 0.5\n",
    "n <- 40\n",
    "alpha <- 0.05\n",
    "\n",
    "z <- (mean - mu) / (s/sqrt(n))\n",
    "p_value <- 1 - pnorm(z)\n",
    "\n",
    "print(paste(\"z : \", z))\n",
    "print(paste(\"p-value : \", p_value))\n",
    "\n",
    "if(p_value < alpha){\n",
    "    print(paste(\"Reject H0 : \", H1))\n",
    "}else{\n",
    "    print(paste(\"Fail to reject H0 : \", H0))\n",
    "}"
   ]
  },
  {
   "cell_type": "markdown",
   "id": "adc1d298-f9db-40e0-a1d2-16efde272479",
   "metadata": {},
   "source": [
    "Activity 04"
   ]
  },
  {
   "cell_type": "code",
   "execution_count": 15,
   "id": "59f6ceb5-1c28-4e7b-975f-43806b535248",
   "metadata": {},
   "outputs": [
    {
     "name": "stdout",
     "output_type": "stream",
     "text": [
      "[1] \"z :  -2.5\"\n",
      "[1] \"p-value :  0.0124193306515523\"\n",
      "[1] \"Reject H0 :  The average battery life of a laptop is significantly different from 10 hours\"\n"
     ]
    }
   ],
   "source": [
    "# 01\n",
    "H0 <- \"The average battery life of a laptop is not different from 10 hours\"\n",
    "H1 <- \"The average battery life of a laptop is significantly different from 10 hours\"\n",
    "mean <- 9.5\n",
    "mu <- 10\n",
    "s <- 1.2\n",
    "n <- 36\n",
    "alpha <- 0.05\n",
    "\n",
    "z <- (mean - mu) / (s/sqrt(n))\n",
    "p_value <- 2*(1- pnorm(abs(z)))\n",
    "\n",
    "print(paste(\"z : \", z))\n",
    "print(paste(\"p-value : \", p_value))\n",
    "\n",
    "if(p_value < alpha){\n",
    "    print(paste(\"Reject H0 : \", H1))\n",
    "}else{\n",
    "    print(paste(\"Fail to reject H0 : \", H0))\n",
    "}"
   ]
  },
  {
   "cell_type": "code",
   "execution_count": 16,
   "id": "3540e6b3-0938-44ac-be01-9d23cafbb039",
   "metadata": {},
   "outputs": [
    {
     "name": "stdout",
     "output_type": "stream",
     "text": [
      "[1] \"z :  2.4\"\n",
      "[1] \"p-value :  0.0163950718491923\"\n",
      "[1] \"Fail to reject H0 :  The average customer waiting time is not different from 15 minutes\"\n"
     ]
    }
   ],
   "source": [
    "# 02 \n",
    "H0 <- \"The average customer waiting time is not different from 15 minutes\"\n",
    "H1 <- \"The average customer waiting time is significantly different from 15 minutes\"\n",
    "mean <- 16.2\n",
    "mu <- 15\n",
    "s <- 3.5\n",
    "n <- 49\n",
    "alpha <- 0.01\n",
    "\n",
    "z <- (mean - mu) / (s/sqrt(n))\n",
    "p_value <- 2*(1- pnorm(abs(z)))\n",
    "\n",
    "print(paste(\"z : \", z))\n",
    "print(paste(\"p-value : \", p_value))\n",
    "\n",
    "if(p_value < alpha){\n",
    "    print(paste(\"Reject H0 : \", H1))\n",
    "}else{\n",
    "    print(paste(\"Fail to reject H0 : \", H0))\n",
    "}"
   ]
  }
 ],
 "metadata": {
  "kernelspec": {
   "display_name": "R",
   "language": "R",
   "name": "ir"
  },
  "language_info": {
   "codemirror_mode": "r",
   "file_extension": ".r",
   "mimetype": "text/x-r-source",
   "name": "R",
   "pygments_lexer": "r",
   "version": "4.4.2"
  }
 },
 "nbformat": 4,
 "nbformat_minor": 5
}
