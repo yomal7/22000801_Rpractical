{
 "cells": [
  {
   "cell_type": "code",
   "execution_count": 4,
   "id": "c0fb8ae2-1142-45fa-b322-74d60c10a527",
   "metadata": {},
   "outputs": [
    {
     "data": {
      "text/html": [
       "<table class=\"dataframe\">\n",
       "<caption>A data.frame: 918 × 12</caption>\n",
       "<thead>\n",
       "\t<tr><th scope=col>Age</th><th scope=col>Sex</th><th scope=col>ChestPainType</th><th scope=col>RestingBP</th><th scope=col>Cholesterol</th><th scope=col>FastingBS</th><th scope=col>RestingECG</th><th scope=col>MaxHR</th><th scope=col>ExerciseAngina</th><th scope=col>Oldpeak</th><th scope=col>ST_Slope</th><th scope=col>HeartDisease</th></tr>\n",
       "\t<tr><th scope=col>&lt;int&gt;</th><th scope=col>&lt;chr&gt;</th><th scope=col>&lt;chr&gt;</th><th scope=col>&lt;int&gt;</th><th scope=col>&lt;int&gt;</th><th scope=col>&lt;int&gt;</th><th scope=col>&lt;chr&gt;</th><th scope=col>&lt;int&gt;</th><th scope=col>&lt;chr&gt;</th><th scope=col>&lt;dbl&gt;</th><th scope=col>&lt;chr&gt;</th><th scope=col>&lt;int&gt;</th></tr>\n",
       "</thead>\n",
       "<tbody>\n",
       "\t<tr><td>40</td><td>M</td><td>ATA</td><td>140</td><td>289</td><td>0</td><td>Normal</td><td>172</td><td>N</td><td>0.0</td><td>Up  </td><td>0</td></tr>\n",
       "\t<tr><td>49</td><td>F</td><td>NAP</td><td>160</td><td>180</td><td>0</td><td>Normal</td><td>156</td><td>N</td><td>1.0</td><td>Flat</td><td>1</td></tr>\n",
       "\t<tr><td>37</td><td>M</td><td>ATA</td><td>130</td><td>283</td><td>0</td><td>ST    </td><td> 98</td><td>N</td><td>0.0</td><td>Up  </td><td>0</td></tr>\n",
       "\t<tr><td>48</td><td>F</td><td>ASY</td><td>138</td><td>214</td><td>0</td><td>Normal</td><td>108</td><td>Y</td><td>1.5</td><td>Flat</td><td>1</td></tr>\n",
       "\t<tr><td>54</td><td>M</td><td>NAP</td><td>150</td><td>195</td><td>0</td><td>Normal</td><td>122</td><td>N</td><td>0.0</td><td>Up  </td><td>0</td></tr>\n",
       "\t<tr><td>39</td><td>M</td><td>NAP</td><td>120</td><td>339</td><td>0</td><td>Normal</td><td>170</td><td>N</td><td>0.0</td><td>Up  </td><td>0</td></tr>\n",
       "\t<tr><td>45</td><td>F</td><td>ATA</td><td>130</td><td>237</td><td>0</td><td>Normal</td><td>170</td><td>N</td><td>0.0</td><td>Up  </td><td>0</td></tr>\n",
       "\t<tr><td>54</td><td>M</td><td>ATA</td><td>110</td><td>208</td><td>0</td><td>Normal</td><td>142</td><td>N</td><td>0.0</td><td>Up  </td><td>0</td></tr>\n",
       "\t<tr><td>37</td><td>M</td><td>ASY</td><td>140</td><td>207</td><td>0</td><td>Normal</td><td>130</td><td>Y</td><td>1.5</td><td>Flat</td><td>1</td></tr>\n",
       "\t<tr><td>48</td><td>F</td><td>ATA</td><td>120</td><td>284</td><td>0</td><td>Normal</td><td>120</td><td>N</td><td>0.0</td><td>Up  </td><td>0</td></tr>\n",
       "\t<tr><td>37</td><td>F</td><td>NAP</td><td>130</td><td>211</td><td>0</td><td>Normal</td><td>142</td><td>N</td><td>0.0</td><td>Up  </td><td>0</td></tr>\n",
       "\t<tr><td>58</td><td>M</td><td>ATA</td><td>136</td><td>164</td><td>0</td><td>ST    </td><td> 99</td><td>Y</td><td>2.0</td><td>Flat</td><td>1</td></tr>\n",
       "\t<tr><td>39</td><td>M</td><td>ATA</td><td>120</td><td>204</td><td>0</td><td>Normal</td><td>145</td><td>N</td><td>0.0</td><td>Up  </td><td>0</td></tr>\n",
       "\t<tr><td>49</td><td>M</td><td>ASY</td><td>140</td><td>234</td><td>0</td><td>Normal</td><td>140</td><td>Y</td><td>1.0</td><td>Flat</td><td>1</td></tr>\n",
       "\t<tr><td>42</td><td>F</td><td>NAP</td><td>115</td><td>211</td><td>0</td><td>ST    </td><td>137</td><td>N</td><td>0.0</td><td>Up  </td><td>0</td></tr>\n",
       "\t<tr><td>54</td><td>F</td><td>ATA</td><td>120</td><td>273</td><td>0</td><td>Normal</td><td>150</td><td>N</td><td>1.5</td><td>Flat</td><td>0</td></tr>\n",
       "\t<tr><td>38</td><td>M</td><td>ASY</td><td>110</td><td>196</td><td>0</td><td>Normal</td><td>166</td><td>N</td><td>0.0</td><td>Flat</td><td>1</td></tr>\n",
       "\t<tr><td>43</td><td>F</td><td>ATA</td><td>120</td><td>201</td><td>0</td><td>Normal</td><td>165</td><td>N</td><td>0.0</td><td>Up  </td><td>0</td></tr>\n",
       "\t<tr><td>60</td><td>M</td><td>ASY</td><td>100</td><td>248</td><td>0</td><td>Normal</td><td>125</td><td>N</td><td>1.0</td><td>Flat</td><td>1</td></tr>\n",
       "\t<tr><td>36</td><td>M</td><td>ATA</td><td>120</td><td>267</td><td>0</td><td>Normal</td><td>160</td><td>N</td><td>3.0</td><td>Flat</td><td>1</td></tr>\n",
       "\t<tr><td>43</td><td>F</td><td>TA </td><td>100</td><td>223</td><td>0</td><td>Normal</td><td>142</td><td>N</td><td>0.0</td><td>Up  </td><td>0</td></tr>\n",
       "\t<tr><td>44</td><td>M</td><td>ATA</td><td>120</td><td>184</td><td>0</td><td>Normal</td><td>142</td><td>N</td><td>1.0</td><td>Flat</td><td>0</td></tr>\n",
       "\t<tr><td>49</td><td>F</td><td>ATA</td><td>124</td><td>201</td><td>0</td><td>Normal</td><td>164</td><td>N</td><td>0.0</td><td>Up  </td><td>0</td></tr>\n",
       "\t<tr><td>44</td><td>M</td><td>ATA</td><td>150</td><td>288</td><td>0</td><td>Normal</td><td>150</td><td>Y</td><td>3.0</td><td>Flat</td><td>1</td></tr>\n",
       "\t<tr><td>40</td><td>M</td><td>NAP</td><td>130</td><td>215</td><td>0</td><td>Normal</td><td>138</td><td>N</td><td>0.0</td><td>Up  </td><td>0</td></tr>\n",
       "\t<tr><td>36</td><td>M</td><td>NAP</td><td>130</td><td>209</td><td>0</td><td>Normal</td><td>178</td><td>N</td><td>0.0</td><td>Up  </td><td>0</td></tr>\n",
       "\t<tr><td>53</td><td>M</td><td>ASY</td><td>124</td><td>260</td><td>0</td><td>ST    </td><td>112</td><td>Y</td><td>3.0</td><td>Flat</td><td>0</td></tr>\n",
       "\t<tr><td>52</td><td>M</td><td>ATA</td><td>120</td><td>284</td><td>0</td><td>Normal</td><td>118</td><td>N</td><td>0.0</td><td>Up  </td><td>0</td></tr>\n",
       "\t<tr><td>53</td><td>F</td><td>ATA</td><td>113</td><td>468</td><td>0</td><td>Normal</td><td>127</td><td>N</td><td>0.0</td><td>Up  </td><td>0</td></tr>\n",
       "\t<tr><td>51</td><td>M</td><td>ATA</td><td>125</td><td>188</td><td>0</td><td>Normal</td><td>145</td><td>N</td><td>0.0</td><td>Up  </td><td>0</td></tr>\n",
       "\t<tr><td>⋮</td><td>⋮</td><td>⋮</td><td>⋮</td><td>⋮</td><td>⋮</td><td>⋮</td><td>⋮</td><td>⋮</td><td>⋮</td><td>⋮</td><td>⋮</td></tr>\n",
       "\t<tr><td>52</td><td>M</td><td>ASY</td><td>128</td><td>204</td><td>1</td><td>Normal</td><td>156</td><td>Y</td><td>1.0</td><td>Flat</td><td>1</td></tr>\n",
       "\t<tr><td>59</td><td>M</td><td>TA </td><td>134</td><td>204</td><td>0</td><td>Normal</td><td>162</td><td>N</td><td>0.8</td><td>Up  </td><td>1</td></tr>\n",
       "\t<tr><td>64</td><td>M</td><td>TA </td><td>170</td><td>227</td><td>0</td><td>LVH   </td><td>155</td><td>N</td><td>0.6</td><td>Flat</td><td>0</td></tr>\n",
       "\t<tr><td>66</td><td>F</td><td>NAP</td><td>146</td><td>278</td><td>0</td><td>LVH   </td><td>152</td><td>N</td><td>0.0</td><td>Flat</td><td>0</td></tr>\n",
       "\t<tr><td>39</td><td>F</td><td>NAP</td><td>138</td><td>220</td><td>0</td><td>Normal</td><td>152</td><td>N</td><td>0.0</td><td>Flat</td><td>0</td></tr>\n",
       "\t<tr><td>57</td><td>M</td><td>ATA</td><td>154</td><td>232</td><td>0</td><td>LVH   </td><td>164</td><td>N</td><td>0.0</td><td>Up  </td><td>1</td></tr>\n",
       "\t<tr><td>58</td><td>F</td><td>ASY</td><td>130</td><td>197</td><td>0</td><td>Normal</td><td>131</td><td>N</td><td>0.6</td><td>Flat</td><td>0</td></tr>\n",
       "\t<tr><td>57</td><td>M</td><td>ASY</td><td>110</td><td>335</td><td>0</td><td>Normal</td><td>143</td><td>Y</td><td>3.0</td><td>Flat</td><td>1</td></tr>\n",
       "\t<tr><td>47</td><td>M</td><td>NAP</td><td>130</td><td>253</td><td>0</td><td>Normal</td><td>179</td><td>N</td><td>0.0</td><td>Up  </td><td>0</td></tr>\n",
       "\t<tr><td>55</td><td>F</td><td>ASY</td><td>128</td><td>205</td><td>0</td><td>ST    </td><td>130</td><td>Y</td><td>2.0</td><td>Flat</td><td>1</td></tr>\n",
       "\t<tr><td>35</td><td>M</td><td>ATA</td><td>122</td><td>192</td><td>0</td><td>Normal</td><td>174</td><td>N</td><td>0.0</td><td>Up  </td><td>0</td></tr>\n",
       "\t<tr><td>61</td><td>M</td><td>ASY</td><td>148</td><td>203</td><td>0</td><td>Normal</td><td>161</td><td>N</td><td>0.0</td><td>Up  </td><td>1</td></tr>\n",
       "\t<tr><td>58</td><td>M</td><td>ASY</td><td>114</td><td>318</td><td>0</td><td>ST    </td><td>140</td><td>N</td><td>4.4</td><td>Down</td><td>1</td></tr>\n",
       "\t<tr><td>58</td><td>F</td><td>ASY</td><td>170</td><td>225</td><td>1</td><td>LVH   </td><td>146</td><td>Y</td><td>2.8</td><td>Flat</td><td>1</td></tr>\n",
       "\t<tr><td>58</td><td>M</td><td>ATA</td><td>125</td><td>220</td><td>0</td><td>Normal</td><td>144</td><td>N</td><td>0.4</td><td>Flat</td><td>0</td></tr>\n",
       "\t<tr><td>56</td><td>M</td><td>ATA</td><td>130</td><td>221</td><td>0</td><td>LVH   </td><td>163</td><td>N</td><td>0.0</td><td>Up  </td><td>0</td></tr>\n",
       "\t<tr><td>56</td><td>M</td><td>ATA</td><td>120</td><td>240</td><td>0</td><td>Normal</td><td>169</td><td>N</td><td>0.0</td><td>Down</td><td>0</td></tr>\n",
       "\t<tr><td>67</td><td>M</td><td>NAP</td><td>152</td><td>212</td><td>0</td><td>LVH   </td><td>150</td><td>N</td><td>0.8</td><td>Flat</td><td>1</td></tr>\n",
       "\t<tr><td>55</td><td>F</td><td>ATA</td><td>132</td><td>342</td><td>0</td><td>Normal</td><td>166</td><td>N</td><td>1.2</td><td>Up  </td><td>0</td></tr>\n",
       "\t<tr><td>44</td><td>M</td><td>ASY</td><td>120</td><td>169</td><td>0</td><td>Normal</td><td>144</td><td>Y</td><td>2.8</td><td>Down</td><td>1</td></tr>\n",
       "\t<tr><td>63</td><td>M</td><td>ASY</td><td>140</td><td>187</td><td>0</td><td>LVH   </td><td>144</td><td>Y</td><td>4.0</td><td>Up  </td><td>1</td></tr>\n",
       "\t<tr><td>63</td><td>F</td><td>ASY</td><td>124</td><td>197</td><td>0</td><td>Normal</td><td>136</td><td>Y</td><td>0.0</td><td>Flat</td><td>1</td></tr>\n",
       "\t<tr><td>41</td><td>M</td><td>ATA</td><td>120</td><td>157</td><td>0</td><td>Normal</td><td>182</td><td>N</td><td>0.0</td><td>Up  </td><td>0</td></tr>\n",
       "\t<tr><td>59</td><td>M</td><td>ASY</td><td>164</td><td>176</td><td>1</td><td>LVH   </td><td> 90</td><td>N</td><td>1.0</td><td>Flat</td><td>1</td></tr>\n",
       "\t<tr><td>57</td><td>F</td><td>ASY</td><td>140</td><td>241</td><td>0</td><td>Normal</td><td>123</td><td>Y</td><td>0.2</td><td>Flat</td><td>1</td></tr>\n",
       "\t<tr><td>45</td><td>M</td><td>TA </td><td>110</td><td>264</td><td>0</td><td>Normal</td><td>132</td><td>N</td><td>1.2</td><td>Flat</td><td>1</td></tr>\n",
       "\t<tr><td>68</td><td>M</td><td>ASY</td><td>144</td><td>193</td><td>1</td><td>Normal</td><td>141</td><td>N</td><td>3.4</td><td>Flat</td><td>1</td></tr>\n",
       "\t<tr><td>57</td><td>M</td><td>ASY</td><td>130</td><td>131</td><td>0</td><td>Normal</td><td>115</td><td>Y</td><td>1.2</td><td>Flat</td><td>1</td></tr>\n",
       "\t<tr><td>57</td><td>F</td><td>ATA</td><td>130</td><td>236</td><td>0</td><td>LVH   </td><td>174</td><td>N</td><td>0.0</td><td>Flat</td><td>1</td></tr>\n",
       "\t<tr><td>38</td><td>M</td><td>NAP</td><td>138</td><td>175</td><td>0</td><td>Normal</td><td>173</td><td>N</td><td>0.0</td><td>Up  </td><td>0</td></tr>\n",
       "</tbody>\n",
       "</table>\n"
      ],
      "text/latex": [
       "A data.frame: 918 × 12\n",
       "\\begin{tabular}{llllllllllll}\n",
       " Age & Sex & ChestPainType & RestingBP & Cholesterol & FastingBS & RestingECG & MaxHR & ExerciseAngina & Oldpeak & ST\\_Slope & HeartDisease\\\\\n",
       " <int> & <chr> & <chr> & <int> & <int> & <int> & <chr> & <int> & <chr> & <dbl> & <chr> & <int>\\\\\n",
       "\\hline\n",
       "\t 40 & M & ATA & 140 & 289 & 0 & Normal & 172 & N & 0.0 & Up   & 0\\\\\n",
       "\t 49 & F & NAP & 160 & 180 & 0 & Normal & 156 & N & 1.0 & Flat & 1\\\\\n",
       "\t 37 & M & ATA & 130 & 283 & 0 & ST     &  98 & N & 0.0 & Up   & 0\\\\\n",
       "\t 48 & F & ASY & 138 & 214 & 0 & Normal & 108 & Y & 1.5 & Flat & 1\\\\\n",
       "\t 54 & M & NAP & 150 & 195 & 0 & Normal & 122 & N & 0.0 & Up   & 0\\\\\n",
       "\t 39 & M & NAP & 120 & 339 & 0 & Normal & 170 & N & 0.0 & Up   & 0\\\\\n",
       "\t 45 & F & ATA & 130 & 237 & 0 & Normal & 170 & N & 0.0 & Up   & 0\\\\\n",
       "\t 54 & M & ATA & 110 & 208 & 0 & Normal & 142 & N & 0.0 & Up   & 0\\\\\n",
       "\t 37 & M & ASY & 140 & 207 & 0 & Normal & 130 & Y & 1.5 & Flat & 1\\\\\n",
       "\t 48 & F & ATA & 120 & 284 & 0 & Normal & 120 & N & 0.0 & Up   & 0\\\\\n",
       "\t 37 & F & NAP & 130 & 211 & 0 & Normal & 142 & N & 0.0 & Up   & 0\\\\\n",
       "\t 58 & M & ATA & 136 & 164 & 0 & ST     &  99 & Y & 2.0 & Flat & 1\\\\\n",
       "\t 39 & M & ATA & 120 & 204 & 0 & Normal & 145 & N & 0.0 & Up   & 0\\\\\n",
       "\t 49 & M & ASY & 140 & 234 & 0 & Normal & 140 & Y & 1.0 & Flat & 1\\\\\n",
       "\t 42 & F & NAP & 115 & 211 & 0 & ST     & 137 & N & 0.0 & Up   & 0\\\\\n",
       "\t 54 & F & ATA & 120 & 273 & 0 & Normal & 150 & N & 1.5 & Flat & 0\\\\\n",
       "\t 38 & M & ASY & 110 & 196 & 0 & Normal & 166 & N & 0.0 & Flat & 1\\\\\n",
       "\t 43 & F & ATA & 120 & 201 & 0 & Normal & 165 & N & 0.0 & Up   & 0\\\\\n",
       "\t 60 & M & ASY & 100 & 248 & 0 & Normal & 125 & N & 1.0 & Flat & 1\\\\\n",
       "\t 36 & M & ATA & 120 & 267 & 0 & Normal & 160 & N & 3.0 & Flat & 1\\\\\n",
       "\t 43 & F & TA  & 100 & 223 & 0 & Normal & 142 & N & 0.0 & Up   & 0\\\\\n",
       "\t 44 & M & ATA & 120 & 184 & 0 & Normal & 142 & N & 1.0 & Flat & 0\\\\\n",
       "\t 49 & F & ATA & 124 & 201 & 0 & Normal & 164 & N & 0.0 & Up   & 0\\\\\n",
       "\t 44 & M & ATA & 150 & 288 & 0 & Normal & 150 & Y & 3.0 & Flat & 1\\\\\n",
       "\t 40 & M & NAP & 130 & 215 & 0 & Normal & 138 & N & 0.0 & Up   & 0\\\\\n",
       "\t 36 & M & NAP & 130 & 209 & 0 & Normal & 178 & N & 0.0 & Up   & 0\\\\\n",
       "\t 53 & M & ASY & 124 & 260 & 0 & ST     & 112 & Y & 3.0 & Flat & 0\\\\\n",
       "\t 52 & M & ATA & 120 & 284 & 0 & Normal & 118 & N & 0.0 & Up   & 0\\\\\n",
       "\t 53 & F & ATA & 113 & 468 & 0 & Normal & 127 & N & 0.0 & Up   & 0\\\\\n",
       "\t 51 & M & ATA & 125 & 188 & 0 & Normal & 145 & N & 0.0 & Up   & 0\\\\\n",
       "\t ⋮ & ⋮ & ⋮ & ⋮ & ⋮ & ⋮ & ⋮ & ⋮ & ⋮ & ⋮ & ⋮ & ⋮\\\\\n",
       "\t 52 & M & ASY & 128 & 204 & 1 & Normal & 156 & Y & 1.0 & Flat & 1\\\\\n",
       "\t 59 & M & TA  & 134 & 204 & 0 & Normal & 162 & N & 0.8 & Up   & 1\\\\\n",
       "\t 64 & M & TA  & 170 & 227 & 0 & LVH    & 155 & N & 0.6 & Flat & 0\\\\\n",
       "\t 66 & F & NAP & 146 & 278 & 0 & LVH    & 152 & N & 0.0 & Flat & 0\\\\\n",
       "\t 39 & F & NAP & 138 & 220 & 0 & Normal & 152 & N & 0.0 & Flat & 0\\\\\n",
       "\t 57 & M & ATA & 154 & 232 & 0 & LVH    & 164 & N & 0.0 & Up   & 1\\\\\n",
       "\t 58 & F & ASY & 130 & 197 & 0 & Normal & 131 & N & 0.6 & Flat & 0\\\\\n",
       "\t 57 & M & ASY & 110 & 335 & 0 & Normal & 143 & Y & 3.0 & Flat & 1\\\\\n",
       "\t 47 & M & NAP & 130 & 253 & 0 & Normal & 179 & N & 0.0 & Up   & 0\\\\\n",
       "\t 55 & F & ASY & 128 & 205 & 0 & ST     & 130 & Y & 2.0 & Flat & 1\\\\\n",
       "\t 35 & M & ATA & 122 & 192 & 0 & Normal & 174 & N & 0.0 & Up   & 0\\\\\n",
       "\t 61 & M & ASY & 148 & 203 & 0 & Normal & 161 & N & 0.0 & Up   & 1\\\\\n",
       "\t 58 & M & ASY & 114 & 318 & 0 & ST     & 140 & N & 4.4 & Down & 1\\\\\n",
       "\t 58 & F & ASY & 170 & 225 & 1 & LVH    & 146 & Y & 2.8 & Flat & 1\\\\\n",
       "\t 58 & M & ATA & 125 & 220 & 0 & Normal & 144 & N & 0.4 & Flat & 0\\\\\n",
       "\t 56 & M & ATA & 130 & 221 & 0 & LVH    & 163 & N & 0.0 & Up   & 0\\\\\n",
       "\t 56 & M & ATA & 120 & 240 & 0 & Normal & 169 & N & 0.0 & Down & 0\\\\\n",
       "\t 67 & M & NAP & 152 & 212 & 0 & LVH    & 150 & N & 0.8 & Flat & 1\\\\\n",
       "\t 55 & F & ATA & 132 & 342 & 0 & Normal & 166 & N & 1.2 & Up   & 0\\\\\n",
       "\t 44 & M & ASY & 120 & 169 & 0 & Normal & 144 & Y & 2.8 & Down & 1\\\\\n",
       "\t 63 & M & ASY & 140 & 187 & 0 & LVH    & 144 & Y & 4.0 & Up   & 1\\\\\n",
       "\t 63 & F & ASY & 124 & 197 & 0 & Normal & 136 & Y & 0.0 & Flat & 1\\\\\n",
       "\t 41 & M & ATA & 120 & 157 & 0 & Normal & 182 & N & 0.0 & Up   & 0\\\\\n",
       "\t 59 & M & ASY & 164 & 176 & 1 & LVH    &  90 & N & 1.0 & Flat & 1\\\\\n",
       "\t 57 & F & ASY & 140 & 241 & 0 & Normal & 123 & Y & 0.2 & Flat & 1\\\\\n",
       "\t 45 & M & TA  & 110 & 264 & 0 & Normal & 132 & N & 1.2 & Flat & 1\\\\\n",
       "\t 68 & M & ASY & 144 & 193 & 1 & Normal & 141 & N & 3.4 & Flat & 1\\\\\n",
       "\t 57 & M & ASY & 130 & 131 & 0 & Normal & 115 & Y & 1.2 & Flat & 1\\\\\n",
       "\t 57 & F & ATA & 130 & 236 & 0 & LVH    & 174 & N & 0.0 & Flat & 1\\\\\n",
       "\t 38 & M & NAP & 138 & 175 & 0 & Normal & 173 & N & 0.0 & Up   & 0\\\\\n",
       "\\end{tabular}\n"
      ],
      "text/markdown": [
       "\n",
       "A data.frame: 918 × 12\n",
       "\n",
       "| Age &lt;int&gt; | Sex &lt;chr&gt; | ChestPainType &lt;chr&gt; | RestingBP &lt;int&gt; | Cholesterol &lt;int&gt; | FastingBS &lt;int&gt; | RestingECG &lt;chr&gt; | MaxHR &lt;int&gt; | ExerciseAngina &lt;chr&gt; | Oldpeak &lt;dbl&gt; | ST_Slope &lt;chr&gt; | HeartDisease &lt;int&gt; |\n",
       "|---|---|---|---|---|---|---|---|---|---|---|---|\n",
       "| 40 | M | ATA | 140 | 289 | 0 | Normal | 172 | N | 0.0 | Up   | 0 |\n",
       "| 49 | F | NAP | 160 | 180 | 0 | Normal | 156 | N | 1.0 | Flat | 1 |\n",
       "| 37 | M | ATA | 130 | 283 | 0 | ST     |  98 | N | 0.0 | Up   | 0 |\n",
       "| 48 | F | ASY | 138 | 214 | 0 | Normal | 108 | Y | 1.5 | Flat | 1 |\n",
       "| 54 | M | NAP | 150 | 195 | 0 | Normal | 122 | N | 0.0 | Up   | 0 |\n",
       "| 39 | M | NAP | 120 | 339 | 0 | Normal | 170 | N | 0.0 | Up   | 0 |\n",
       "| 45 | F | ATA | 130 | 237 | 0 | Normal | 170 | N | 0.0 | Up   | 0 |\n",
       "| 54 | M | ATA | 110 | 208 | 0 | Normal | 142 | N | 0.0 | Up   | 0 |\n",
       "| 37 | M | ASY | 140 | 207 | 0 | Normal | 130 | Y | 1.5 | Flat | 1 |\n",
       "| 48 | F | ATA | 120 | 284 | 0 | Normal | 120 | N | 0.0 | Up   | 0 |\n",
       "| 37 | F | NAP | 130 | 211 | 0 | Normal | 142 | N | 0.0 | Up   | 0 |\n",
       "| 58 | M | ATA | 136 | 164 | 0 | ST     |  99 | Y | 2.0 | Flat | 1 |\n",
       "| 39 | M | ATA | 120 | 204 | 0 | Normal | 145 | N | 0.0 | Up   | 0 |\n",
       "| 49 | M | ASY | 140 | 234 | 0 | Normal | 140 | Y | 1.0 | Flat | 1 |\n",
       "| 42 | F | NAP | 115 | 211 | 0 | ST     | 137 | N | 0.0 | Up   | 0 |\n",
       "| 54 | F | ATA | 120 | 273 | 0 | Normal | 150 | N | 1.5 | Flat | 0 |\n",
       "| 38 | M | ASY | 110 | 196 | 0 | Normal | 166 | N | 0.0 | Flat | 1 |\n",
       "| 43 | F | ATA | 120 | 201 | 0 | Normal | 165 | N | 0.0 | Up   | 0 |\n",
       "| 60 | M | ASY | 100 | 248 | 0 | Normal | 125 | N | 1.0 | Flat | 1 |\n",
       "| 36 | M | ATA | 120 | 267 | 0 | Normal | 160 | N | 3.0 | Flat | 1 |\n",
       "| 43 | F | TA  | 100 | 223 | 0 | Normal | 142 | N | 0.0 | Up   | 0 |\n",
       "| 44 | M | ATA | 120 | 184 | 0 | Normal | 142 | N | 1.0 | Flat | 0 |\n",
       "| 49 | F | ATA | 124 | 201 | 0 | Normal | 164 | N | 0.0 | Up   | 0 |\n",
       "| 44 | M | ATA | 150 | 288 | 0 | Normal | 150 | Y | 3.0 | Flat | 1 |\n",
       "| 40 | M | NAP | 130 | 215 | 0 | Normal | 138 | N | 0.0 | Up   | 0 |\n",
       "| 36 | M | NAP | 130 | 209 | 0 | Normal | 178 | N | 0.0 | Up   | 0 |\n",
       "| 53 | M | ASY | 124 | 260 | 0 | ST     | 112 | Y | 3.0 | Flat | 0 |\n",
       "| 52 | M | ATA | 120 | 284 | 0 | Normal | 118 | N | 0.0 | Up   | 0 |\n",
       "| 53 | F | ATA | 113 | 468 | 0 | Normal | 127 | N | 0.0 | Up   | 0 |\n",
       "| 51 | M | ATA | 125 | 188 | 0 | Normal | 145 | N | 0.0 | Up   | 0 |\n",
       "| ⋮ | ⋮ | ⋮ | ⋮ | ⋮ | ⋮ | ⋮ | ⋮ | ⋮ | ⋮ | ⋮ | ⋮ |\n",
       "| 52 | M | ASY | 128 | 204 | 1 | Normal | 156 | Y | 1.0 | Flat | 1 |\n",
       "| 59 | M | TA  | 134 | 204 | 0 | Normal | 162 | N | 0.8 | Up   | 1 |\n",
       "| 64 | M | TA  | 170 | 227 | 0 | LVH    | 155 | N | 0.6 | Flat | 0 |\n",
       "| 66 | F | NAP | 146 | 278 | 0 | LVH    | 152 | N | 0.0 | Flat | 0 |\n",
       "| 39 | F | NAP | 138 | 220 | 0 | Normal | 152 | N | 0.0 | Flat | 0 |\n",
       "| 57 | M | ATA | 154 | 232 | 0 | LVH    | 164 | N | 0.0 | Up   | 1 |\n",
       "| 58 | F | ASY | 130 | 197 | 0 | Normal | 131 | N | 0.6 | Flat | 0 |\n",
       "| 57 | M | ASY | 110 | 335 | 0 | Normal | 143 | Y | 3.0 | Flat | 1 |\n",
       "| 47 | M | NAP | 130 | 253 | 0 | Normal | 179 | N | 0.0 | Up   | 0 |\n",
       "| 55 | F | ASY | 128 | 205 | 0 | ST     | 130 | Y | 2.0 | Flat | 1 |\n",
       "| 35 | M | ATA | 122 | 192 | 0 | Normal | 174 | N | 0.0 | Up   | 0 |\n",
       "| 61 | M | ASY | 148 | 203 | 0 | Normal | 161 | N | 0.0 | Up   | 1 |\n",
       "| 58 | M | ASY | 114 | 318 | 0 | ST     | 140 | N | 4.4 | Down | 1 |\n",
       "| 58 | F | ASY | 170 | 225 | 1 | LVH    | 146 | Y | 2.8 | Flat | 1 |\n",
       "| 58 | M | ATA | 125 | 220 | 0 | Normal | 144 | N | 0.4 | Flat | 0 |\n",
       "| 56 | M | ATA | 130 | 221 | 0 | LVH    | 163 | N | 0.0 | Up   | 0 |\n",
       "| 56 | M | ATA | 120 | 240 | 0 | Normal | 169 | N | 0.0 | Down | 0 |\n",
       "| 67 | M | NAP | 152 | 212 | 0 | LVH    | 150 | N | 0.8 | Flat | 1 |\n",
       "| 55 | F | ATA | 132 | 342 | 0 | Normal | 166 | N | 1.2 | Up   | 0 |\n",
       "| 44 | M | ASY | 120 | 169 | 0 | Normal | 144 | Y | 2.8 | Down | 1 |\n",
       "| 63 | M | ASY | 140 | 187 | 0 | LVH    | 144 | Y | 4.0 | Up   | 1 |\n",
       "| 63 | F | ASY | 124 | 197 | 0 | Normal | 136 | Y | 0.0 | Flat | 1 |\n",
       "| 41 | M | ATA | 120 | 157 | 0 | Normal | 182 | N | 0.0 | Up   | 0 |\n",
       "| 59 | M | ASY | 164 | 176 | 1 | LVH    |  90 | N | 1.0 | Flat | 1 |\n",
       "| 57 | F | ASY | 140 | 241 | 0 | Normal | 123 | Y | 0.2 | Flat | 1 |\n",
       "| 45 | M | TA  | 110 | 264 | 0 | Normal | 132 | N | 1.2 | Flat | 1 |\n",
       "| 68 | M | ASY | 144 | 193 | 1 | Normal | 141 | N | 3.4 | Flat | 1 |\n",
       "| 57 | M | ASY | 130 | 131 | 0 | Normal | 115 | Y | 1.2 | Flat | 1 |\n",
       "| 57 | F | ATA | 130 | 236 | 0 | LVH    | 174 | N | 0.0 | Flat | 1 |\n",
       "| 38 | M | NAP | 138 | 175 | 0 | Normal | 173 | N | 0.0 | Up   | 0 |\n",
       "\n"
      ],
      "text/plain": [
       "    Age Sex ChestPainType RestingBP Cholesterol FastingBS RestingECG MaxHR\n",
       "1   40  M   ATA           140       289         0         Normal     172  \n",
       "2   49  F   NAP           160       180         0         Normal     156  \n",
       "3   37  M   ATA           130       283         0         ST          98  \n",
       "4   48  F   ASY           138       214         0         Normal     108  \n",
       "5   54  M   NAP           150       195         0         Normal     122  \n",
       "6   39  M   NAP           120       339         0         Normal     170  \n",
       "7   45  F   ATA           130       237         0         Normal     170  \n",
       "8   54  M   ATA           110       208         0         Normal     142  \n",
       "9   37  M   ASY           140       207         0         Normal     130  \n",
       "10  48  F   ATA           120       284         0         Normal     120  \n",
       "11  37  F   NAP           130       211         0         Normal     142  \n",
       "12  58  M   ATA           136       164         0         ST          99  \n",
       "13  39  M   ATA           120       204         0         Normal     145  \n",
       "14  49  M   ASY           140       234         0         Normal     140  \n",
       "15  42  F   NAP           115       211         0         ST         137  \n",
       "16  54  F   ATA           120       273         0         Normal     150  \n",
       "17  38  M   ASY           110       196         0         Normal     166  \n",
       "18  43  F   ATA           120       201         0         Normal     165  \n",
       "19  60  M   ASY           100       248         0         Normal     125  \n",
       "20  36  M   ATA           120       267         0         Normal     160  \n",
       "21  43  F   TA            100       223         0         Normal     142  \n",
       "22  44  M   ATA           120       184         0         Normal     142  \n",
       "23  49  F   ATA           124       201         0         Normal     164  \n",
       "24  44  M   ATA           150       288         0         Normal     150  \n",
       "25  40  M   NAP           130       215         0         Normal     138  \n",
       "26  36  M   NAP           130       209         0         Normal     178  \n",
       "27  53  M   ASY           124       260         0         ST         112  \n",
       "28  52  M   ATA           120       284         0         Normal     118  \n",
       "29  53  F   ATA           113       468         0         Normal     127  \n",
       "30  51  M   ATA           125       188         0         Normal     145  \n",
       "⋮   ⋮   ⋮   ⋮             ⋮         ⋮           ⋮         ⋮          ⋮    \n",
       "889 52  M   ASY           128       204         1         Normal     156  \n",
       "890 59  M   TA            134       204         0         Normal     162  \n",
       "891 64  M   TA            170       227         0         LVH        155  \n",
       "892 66  F   NAP           146       278         0         LVH        152  \n",
       "893 39  F   NAP           138       220         0         Normal     152  \n",
       "894 57  M   ATA           154       232         0         LVH        164  \n",
       "895 58  F   ASY           130       197         0         Normal     131  \n",
       "896 57  M   ASY           110       335         0         Normal     143  \n",
       "897 47  M   NAP           130       253         0         Normal     179  \n",
       "898 55  F   ASY           128       205         0         ST         130  \n",
       "899 35  M   ATA           122       192         0         Normal     174  \n",
       "900 61  M   ASY           148       203         0         Normal     161  \n",
       "901 58  M   ASY           114       318         0         ST         140  \n",
       "902 58  F   ASY           170       225         1         LVH        146  \n",
       "903 58  M   ATA           125       220         0         Normal     144  \n",
       "904 56  M   ATA           130       221         0         LVH        163  \n",
       "905 56  M   ATA           120       240         0         Normal     169  \n",
       "906 67  M   NAP           152       212         0         LVH        150  \n",
       "907 55  F   ATA           132       342         0         Normal     166  \n",
       "908 44  M   ASY           120       169         0         Normal     144  \n",
       "909 63  M   ASY           140       187         0         LVH        144  \n",
       "910 63  F   ASY           124       197         0         Normal     136  \n",
       "911 41  M   ATA           120       157         0         Normal     182  \n",
       "912 59  M   ASY           164       176         1         LVH         90  \n",
       "913 57  F   ASY           140       241         0         Normal     123  \n",
       "914 45  M   TA            110       264         0         Normal     132  \n",
       "915 68  M   ASY           144       193         1         Normal     141  \n",
       "916 57  M   ASY           130       131         0         Normal     115  \n",
       "917 57  F   ATA           130       236         0         LVH        174  \n",
       "918 38  M   NAP           138       175         0         Normal     173  \n",
       "    ExerciseAngina Oldpeak ST_Slope HeartDisease\n",
       "1   N              0.0     Up       0           \n",
       "2   N              1.0     Flat     1           \n",
       "3   N              0.0     Up       0           \n",
       "4   Y              1.5     Flat     1           \n",
       "5   N              0.0     Up       0           \n",
       "6   N              0.0     Up       0           \n",
       "7   N              0.0     Up       0           \n",
       "8   N              0.0     Up       0           \n",
       "9   Y              1.5     Flat     1           \n",
       "10  N              0.0     Up       0           \n",
       "11  N              0.0     Up       0           \n",
       "12  Y              2.0     Flat     1           \n",
       "13  N              0.0     Up       0           \n",
       "14  Y              1.0     Flat     1           \n",
       "15  N              0.0     Up       0           \n",
       "16  N              1.5     Flat     0           \n",
       "17  N              0.0     Flat     1           \n",
       "18  N              0.0     Up       0           \n",
       "19  N              1.0     Flat     1           \n",
       "20  N              3.0     Flat     1           \n",
       "21  N              0.0     Up       0           \n",
       "22  N              1.0     Flat     0           \n",
       "23  N              0.0     Up       0           \n",
       "24  Y              3.0     Flat     1           \n",
       "25  N              0.0     Up       0           \n",
       "26  N              0.0     Up       0           \n",
       "27  Y              3.0     Flat     0           \n",
       "28  N              0.0     Up       0           \n",
       "29  N              0.0     Up       0           \n",
       "30  N              0.0     Up       0           \n",
       "⋮   ⋮              ⋮       ⋮        ⋮           \n",
       "889 Y              1.0     Flat     1           \n",
       "890 N              0.8     Up       1           \n",
       "891 N              0.6     Flat     0           \n",
       "892 N              0.0     Flat     0           \n",
       "893 N              0.0     Flat     0           \n",
       "894 N              0.0     Up       1           \n",
       "895 N              0.6     Flat     0           \n",
       "896 Y              3.0     Flat     1           \n",
       "897 N              0.0     Up       0           \n",
       "898 Y              2.0     Flat     1           \n",
       "899 N              0.0     Up       0           \n",
       "900 N              0.0     Up       1           \n",
       "901 N              4.4     Down     1           \n",
       "902 Y              2.8     Flat     1           \n",
       "903 N              0.4     Flat     0           \n",
       "904 N              0.0     Up       0           \n",
       "905 N              0.0     Down     0           \n",
       "906 N              0.8     Flat     1           \n",
       "907 N              1.2     Up       0           \n",
       "908 Y              2.8     Down     1           \n",
       "909 Y              4.0     Up       1           \n",
       "910 Y              0.0     Flat     1           \n",
       "911 N              0.0     Up       0           \n",
       "912 N              1.0     Flat     1           \n",
       "913 Y              0.2     Flat     1           \n",
       "914 N              1.2     Flat     1           \n",
       "915 N              3.4     Flat     1           \n",
       "916 Y              1.2     Flat     1           \n",
       "917 N              0.0     Flat     1           \n",
       "918 N              0.0     Up       0           "
      ]
     },
     "metadata": {},
     "output_type": "display_data"
    }
   ],
   "source": [
    "#Activity 01\n",
    "dataset <- read.csv(\"heart.csv\")\n",
    "dataset"
   ]
  },
  {
   "cell_type": "code",
   "execution_count": 12,
   "id": "3a240ed4-85be-4829-a876-21c2b42f09a7",
   "metadata": {},
   "outputs": [
    {
     "name": "stdout",
     "output_type": "stream",
     "text": [
      "[1] \"number of rows =  918\"\n"
     ]
    }
   ],
   "source": [
    "numofrows <- 0\n",
    "for(i in 1:nrow(dataset)){\n",
    "    numofrows <- numofrows + 1\n",
    "}\n",
    "print(paste('number of rows = ', numofrows))"
   ]
  },
  {
   "cell_type": "code",
   "execution_count": 24,
   "id": "35a72981-6c46-48ca-ac78-66c4cb0c8a8c",
   "metadata": {},
   "outputs": [
    {
     "name": "stdout",
     "output_type": "stream",
     "text": [
      "[1] \"Min: 0 Max: 200 Median: 130 Mean: 132.39651416122\"\n"
     ]
    }
   ],
   "source": [
    "min_val <- min(dataset$RestingBP, na.rm = TRUE)\n",
    "max_val <- max(dataset$RestingBP, na.rm = TRUE)\n",
    "mean_val <- mean(dataset$RestingBP, na.rm = TRUE)\n",
    "median_val <- median(dataset$RestingBP, na.rm = TRUE)\n",
    "summary <- paste(\"Min:\", min_val, \"Max:\", max_val,\"Median:\", median_val, \"Mean:\", mean_val)\n",
    "print(summary)"
   ]
  },
  {
   "cell_type": "code",
   "execution_count": 26,
   "id": "e1a92dd4-ca3e-4374-8ee9-bca9eb0bb8eb",
   "metadata": {},
   "outputs": [
    {
     "name": "stdout",
     "output_type": "stream",
     "text": [
      "[1] \"number of patients with higher RestingBP :  404\"\n"
     ]
    }
   ],
   "source": [
    "numofPatients <- 0\n",
    "for(i in 1:nrow(dataset)){\n",
    "    bp = dataset$RestingBP[i]\n",
    "    if(!is.na(bp) && bp > mean_val){\n",
    "        numofPatients <- numofPatients + 1\n",
    "    }\n",
    "}\n",
    "print(paste(\"number of patients with higher RestingBP : \", numofPatients))"
   ]
  },
  {
   "cell_type": "code",
   "execution_count": 27,
   "id": "0009e595-a3db-4d39-878f-69af0cdd8329",
   "metadata": {},
   "outputs": [
    {
     "name": "stdout",
     "output_type": "stream",
     "text": [
      "[1] \"ATA\" \"NAP\" \"ASY\" \"TA\" \n"
     ]
    }
   ],
   "source": [
    "unique_chestpains <- unique(dataset$ChestPainType)\n",
    "print(unique_chestpains)"
   ]
  },
  {
   "cell_type": "code",
   "execution_count": 29,
   "id": "3830cca7-b027-42fa-9196-cb0389075675",
   "metadata": {},
   "outputs": [
    {
     "name": "stdout",
     "output_type": "stream",
     "text": [
      "[1] 49\n",
      "[1] 43\n",
      "[1] 48\n",
      "[1] 54\n",
      "[1] 51\n",
      "[1] 43\n",
      "[1] 40\n",
      "[1] 58\n",
      "[1] 54\n",
      "[1] 62\n"
     ]
    }
   ],
   "source": [
    "count <- 0\n",
    "for (i in 1:nrow(dataset)) {\n",
    "    if (dataset$RestingBP[i] > 140 & dataset$Sex[i] == \"F\" & count < 10) {\n",
    "        print(dataset$Age[i])\n",
    "        count <- count + 1\n",
    "    }\n",
    "}"
   ]
  },
  {
   "cell_type": "code",
   "execution_count": 36,
   "id": "fc7f546c-f3ab-4de1-af36-a113be487a07",
   "metadata": {},
   "outputs": [
    {
     "name": "stdout",
     "output_type": "stream",
     "text": [
      "[1] \"Do not have a heart disease\"\n",
      "[1] \"Age :  49 Sex :  F\"\n"
     ]
    }
   ],
   "source": [
    "check_HeartDisease <- function(row){\n",
    "    if(row$HeartDisease == 1){\n",
    "        print(paste(\"Age : \" , row$Age, \"Sex : \" , row$Sex))\n",
    "    } else {\n",
    "        print(\"Do not have a heart disease\")\n",
    "    }\n",
    "}\n",
    "check_HeartDisease(dataset[1,]) #first row\n",
    "check_HeartDisease(dataset[2,]) #second row"
   ]
  },
  {
   "cell_type": "code",
   "execution_count": 38,
   "id": "9ee833c5-a60e-479c-b86f-0f000f12564e",
   "metadata": {},
   "outputs": [
    {
     "name": "stdout",
     "output_type": "stream",
     "text": [
      "[1] \"High\"\n",
      "[1] \"Low\"\n"
     ]
    }
   ],
   "source": [
    "check_Cholesterol <- function(row){\n",
    "    if(row$Cholesterol\t< 200){\n",
    "        print(\"Low\")\n",
    "    }else{\n",
    "        print(\"High\")\n",
    "    }\n",
    "}\n",
    "check_Cholesterol(dataset[1, ])\n",
    "check_Cholesterol(dataset[2, ])"
   ]
  },
  {
   "cell_type": "code",
   "execution_count": 42,
   "id": "2a029d15-c961-4a3e-9f31-144cfa5a3092",
   "metadata": {},
   "outputs": [
    {
     "data": {
      "image/png": "[encoded data removed]",
      "text/plain": [
       "Plot with title \"City Population\""
      ]
     },
     "metadata": {
      "image/png": {
       "height": 420,
       "width": 420
      }
     },
     "output_type": "display_data"
    }
   ],
   "source": [
    "#Activity 02\n",
    "cities <- c(\"Colombo\", \"Kandy\", \"Galle\" , \"Anuradhapura\", \"Trincomalee\", \"Jaffna\")\n",
    "population <- c(580000, 450000, 330000, 380000, 280000, 310000)\n",
    "pie(population, labels = cities , main = \"City Population\" , col = rainbow(length(cities)))"
   ]
  },
  {
   "cell_type": "code",
   "execution_count": 45,
   "id": "e5910fd4-5da4-4f20-a357-0f0e08ebd8a1",
   "metadata": {},
   "outputs": [
    {
     "data": {
      "image/png": "[encoded data removed]",
      "text/plain": [
       "Plot with title \"City Population\""
      ]
     },
     "metadata": {
      "image/png": {
       "height": 420,
       "width": 420
      }
     },
     "output_type": "display_data"
    }
   ],
   "source": [
    "percentages <- round(population / sum(population) * 100)\n",
    "labels <- paste(percentages, \"%\", sep = \"\")\n",
    "pie(population, labels = labels , main = \"City Population\" , col = rainbow(length(cities)))"
   ]
  },
  {
   "cell_type": "code",
   "execution_count": 48,
   "id": "9e306073-4ad8-4206-b1a2-1654f0f8bf25",
   "metadata": {},
   "outputs": [
    {
     "data": {
      "image/png": "[encoded data removed]",
      "text/plain": [
       "Plot with title \"Income\""
      ]
     },
     "metadata": {
      "image/png": {
       "height": 420,
       "width": 420
      }
     },
     "output_type": "display_data"
    }
   ],
   "source": [
    "#Activity 03\n",
    "Year <- c(\"2015\", \"2016\", \"2017\", \"2018\", \"2019\")\n",
    "Yearly_income <- c(1320000, 1500000, 2002000, 1980000, 1520000)\n",
    "barplot(Yearly_income, names.arg = Year , col = \"red\" , border = \"blue\",\n",
    "        xlab = \"Year\", ylab = \"Yearly Income\", main = \"Income\")"
   ]
  }
 ],
 "metadata": {
  "kernelspec": {
   "display_name": "R",
   "language": "R",
   "name": "ir"
  },
  "language_info": {
   "codemirror_mode": "r",
   "file_extension": ".r",
   "mimetype": "text/x-r-source",
   "name": "R",
   "pygments_lexer": "r",
   "version": "4.4.2"
  }
 },
 "nbformat": 4,
 "nbformat_minor": 5
}
